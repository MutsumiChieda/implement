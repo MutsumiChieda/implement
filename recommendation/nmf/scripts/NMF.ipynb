{
 "cells": [
  {
   "cell_type": "code",
   "execution_count": 1,
   "metadata": {},
   "outputs": [],
   "source": [
    "import numpy as np\n",
    "np.set_printoptions(precision=2, suppress=True)\n",
    "import pandas as pd\n",
    "%matplotlib inline\n",
    "import matplotlib.pyplot as plt"
   ]
  },
  {
   "cell_type": "markdown",
   "metadata": {},
   "source": [
    "# Matrix Factorization\n",
    "\n",
    "$X = PQ$となる分解を行う．  \n",
    "Pのサイズは(# of users, k)，Qのサイズは(k, # of items)  \n",
    "(kはハイパーパラメータ)\n",
    "\n",
    "分解後にPとQの積をとるとXの欠損していた値が予測される．"
   ]
  },
  {
   "cell_type": "code",
   "execution_count": 2,
   "metadata": {
    "scrolled": true
   },
   "outputs": [
    {
     "data": {
      "text/html": [
       "<div>\n",
       "<style scoped>\n",
       "    .dataframe tbody tr th:only-of-type {\n",
       "        vertical-align: middle;\n",
       "    }\n",
       "\n",
       "    .dataframe tbody tr th {\n",
       "        vertical-align: top;\n",
       "    }\n",
       "\n",
       "    .dataframe thead th {\n",
       "        text-align: right;\n",
       "    }\n",
       "</style>\n",
       "<table border=\"1\" class=\"dataframe\">\n",
       "  <thead>\n",
       "    <tr style=\"text-align: right;\">\n",
       "      <th></th>\n",
       "      <th>Titanic</th>\n",
       "      <th>Notting Hill</th>\n",
       "      <th>Star Wars</th>\n",
       "      <th>Star Trek</th>\n",
       "    </tr>\n",
       "  </thead>\n",
       "  <tbody>\n",
       "    <tr>\n",
       "      <th>Alan</th>\n",
       "      <td>5.0</td>\n",
       "      <td>3.0</td>\n",
       "      <td>1.0</td>\n",
       "      <td>0.0</td>\n",
       "    </tr>\n",
       "    <tr>\n",
       "      <th>Benjamin</th>\n",
       "      <td>0.0</td>\n",
       "      <td>0.0</td>\n",
       "      <td>4.0</td>\n",
       "      <td>5.0</td>\n",
       "    </tr>\n",
       "    <tr>\n",
       "      <th>Carl</th>\n",
       "      <td>1.0</td>\n",
       "      <td>0.0</td>\n",
       "      <td>5.0</td>\n",
       "      <td>0.0</td>\n",
       "    </tr>\n",
       "  </tbody>\n",
       "</table>\n",
       "</div>"
      ],
      "text/plain": [
       "          Titanic  Notting Hill  Star Wars  Star Trek\n",
       "Alan          5.0           3.0        1.0        0.0\n",
       "Benjamin      0.0           0.0        4.0        5.0\n",
       "Carl          1.0           0.0        5.0        0.0"
      ]
     },
     "execution_count": 2,
     "metadata": {},
     "output_type": "execute_result"
    }
   ],
   "source": [
    "X = np.array([\n",
    "    [5, 3, 1, np.nan],\n",
    "    [np.nan, np.nan, 4, 5], \n",
    "    [1, np.nan, 5, np.nan]])\n",
    "reviewers = ['Alan', 'Benjamin', 'Carl']\n",
    "movie_titles = ['Titanic', 'Notting Hill', 'Star Wars', 'Star Trek']\n",
    "\n",
    "df = pd.DataFrame(X, index=reviewers, columns=movie_titles)\n",
    "df = df.fillna(0)\n",
    "X = df.values\n",
    "\n",
    "df"
   ]
  },
  {
   "cell_type": "markdown",
   "metadata": {},
   "source": [
    "## 原理\n",
    "\n",
    "MFではPQによるXの近似を損失最適化によって行う．\n",
    "\n",
    "ユーザ$u_i$による項目$d_j$の評価$r_{ij}$は，\n",
    "$$ r_{ij} = p_i^T q_j = \\sum^k_{k=1} p_{ik} q_{kj} $$\n",
    "UとVを求めるのに，元の行列と予測の損失$e_{ij}$を最小化していく．  \n",
    "損失  \n",
    "$$ e_{ij} = (r_{ij} - \\sum^K_{k=1} p_{ik} q_{kj})^2$$\n",
    "勾配\n",
    "$$de_{ij}/dp_{ik} = -2e_{ij} q_{kj}$$\n",
    "$$de_{ij}/dq_{ik} = -2e_{ij} p_{ik}$$\n",
    "更新\n",
    "$$p_{ik} = p_{ik} + \\alpha \\cdot 2 e_{ij} q_{kj} $$\n",
    "$$q_{kj} = q_{kj} + \\alpha \\cdot 2 e_{ij} p_{ik} $$\n",
    "\n",
    "ここで，PとQの積による欠損部分の予測は0になるのではないか，という疑問が出てくる．  \n",
    "答えとしては，PとQは元の行列をそのまま再現しようとするのではなく，あくまで観測された部分の損失を最小化しようとするものであるため，欠損値を予測できる．"
   ]
  },
  {
   "cell_type": "markdown",
   "metadata": {},
   "source": [
    "## 正則化\n",
    "正則化は損失関数にハイパーパラメータ$\\beta$を含む正則化項を加えることで行う．\n",
    "正則化によって，PとQの値が大きくなるのを防ぐ．  \n",
    "損失  \n",
    "$$ e_{ij} = (r_{ij} - \\sum^K_{k=1} p_{ik} q_{kj})^2 + \\frac{\\beta}{2} \\sum^K_{k=1} (||P||^2 + ||Q||^2) $$\n",
    "更新  \n",
    "$$p_{ik} = p_{ik} + \\alpha (2 e_{ij} q_{kj} - \\beta p_{ik}) $$\n",
    "$$q_{kj} = q_{kj} + \\alpha (2 e_{ij} p_{ik} - \\beta q_{kj})$$"
   ]
  },
  {
   "cell_type": "code",
   "execution_count": 3,
   "metadata": {},
   "outputs": [],
   "source": [
    "class MatrixFactorization():\n",
    "    def __init__(self, data, k_dim, step=1000, alpha=.002, beta=.02, threshold=.001):\n",
    "        self.X = data\n",
    "        self.k = k_dim\n",
    "        self.P = np.random.rand(self.X.shape[0], self.k)\n",
    "        self.Q = np.random.rand(self.k, self.X.shape[1])\n",
    "        self.alpha = alpha\n",
    "        self.beta = beta\n",
    "        self.steps = step\n",
    "        self.loss_history = []\n",
    "    \n",
    "    def fit(self):\n",
    "        print('Started training')\n",
    "        for step in range(self.steps):\n",
    "            for i in range(self.X.shape[0]):\n",
    "                for j in range(self.X.shape[1]):\n",
    "                    if self.X[i][j] > 0:\n",
    "                        error = self.X[i][j] - np.dot(self.P[i,:], self.Q[:,j])\n",
    "                        for k in range(self.k):\n",
    "                            self.P[i][k] = self.P[i][k] + self.alpha * (2 * error * self.Q[k][j] - self.beta * self.P[i][k])\n",
    "                            self.Q[k][j] = self.Q[k][j] + self.alpha * (2 * error * self.P[i][k] - self.beta * self.Q[k][j])\n",
    "            error = 0\n",
    "            for i in range(self.X.shape[0]):\n",
    "                for j in range(self.X.shape[1]):\n",
    "                    if self.X[i][j] > 0:\n",
    "                        error = error + pow(self.X[i][j] - np.dot(self.P[i,:], self.Q[:,j]), 2)\n",
    "                        for k in range(self.k):\n",
    "                            error = error + (self.beta/2) * (pow(self.P[i][k],2) + pow(self.Q[k][j],2))\n",
    "            self.loss_history.append(error)\n",
    "            if step % 50 == 0:\n",
    "                 print('step {:4}: {:.2f}'.format(step, error), end='\\r')\n",
    "        print('Finished training')\n",
    "        \n",
    "    def predict_element(self, i, j):\n",
    "        prediction = np.dot(self.P[i,:], self.Q[:,j])\n",
    "        return prediction\n",
    "    \n",
    "    def predict(self):\n",
    "        prediction = []\n",
    "        for i, xi in enumerate(self.X):\n",
    "            prediction.append([])\n",
    "            for j, xij in enumerate(xi):\n",
    "                prediction[i].append(self.predict_element(i,j))            \n",
    "        return np.array(prediction)"
   ]
  },
  {
   "cell_type": "code",
   "execution_count": 4,
   "metadata": {
    "scrolled": true
   },
   "outputs": [
    {
     "name": "stdout",
     "output_type": "stream",
     "text": [
      "Started training\n",
      "Finished training\n",
      "X\n",
      " [[5. 3. 1. 0.]\n",
      " [0. 0. 4. 5.]\n",
      " [1. 0. 5. 0.]]\n",
      "Prediction\n",
      " [[4.98 2.99 1.   3.66]\n",
      " [3.79 2.61 3.99 4.99]\n",
      " [1.   1.02 4.98 3.  ]]\n",
      "Loss: 0.68\n"
     ]
    },
    {
     "data": {
      "image/png": "[encoded data removed]",
      "text/plain": [
       "<Figure size 432x288 with 1 Axes>"
      ]
     },
     "metadata": {
      "needs_background": "light"
     },
     "output_type": "display_data"
    }
   ],
   "source": [
    "mf = MatrixFactorization(X, k_dim=3)\n",
    "mf.fit()\n",
    "prediction = mf.predict()\n",
    "\n",
    "print('X\\n',X)\n",
    "print('Prediction\\n',prediction)\n",
    "print('Loss: {:.2f}'.format(mf.loss_history[-1]))\n",
    "plt.title('loss over steps'); plt.grid(); plt.plot(mf.loss_history)\n",
    "plt.show()"
   ]
  },
  {
   "cell_type": "markdown",
   "metadata": {},
   "source": [
    "# バイアス項つきMatrix Factorization\n",
    "ユーザまたはアイテム片方のみに依存する性質(辛口なユーザ，誰もに好かれる商品など)を反映したMatrix Factorization．  \n",
    "予測規則  \n",
    "$$ X = PQ + \\mu + B^P + B^Q $$\n",
    "更新  \n",
    "$$ B^P_{ik} = B^P_{ik} + \\alpha (e_{ij} - \\beta * B^P_{ik}) $$\n",
    "$$ B^Q_{kj} = B^Q_{kj} + \\alpha (e_{ij} - \\beta * B^Q_{kj}) $$"
   ]
  },
  {
   "cell_type": "code",
   "execution_count": 5,
   "metadata": {},
   "outputs": [],
   "source": [
    "class BiasMF():\n",
    "    def __init__(self, data, k_dim, step=1000, alpha=.002, beta=.02, threshold=.001):\n",
    "        self.X = data\n",
    "        self.k = k_dim\n",
    "        self.P = np.random.rand(self.X.shape[0], self.k)\n",
    "        self.Q = np.random.rand(self.k, self.X.shape[1])\n",
    "        self.alpha = alpha\n",
    "        self.beta = beta\n",
    "        self.steps = step\n",
    "        self.bias_p = np.zeros((self.X.shape[0], self.k))\n",
    "        self.bias_q = np.zeros((self.k, self.X.shape[1]))\n",
    "        self.bias = np.mean(data)\n",
    "        self.loss_history = []\n",
    "        \n",
    "    def fit(self):\n",
    "        print('Started training')\n",
    "        for step in range(self.steps):\n",
    "            for i in range(self.X.shape[0]):\n",
    "                for j in range(self.X.shape[1]):\n",
    "                    if self.X[i][j] > 0:\n",
    "                        error = self.X[i][j] - self.predict_element(i, j)\n",
    "                        for k in range(self.k):\n",
    "                            self.bias_p[i][k] = self.bias_p[i][k] + self.alpha * (error - self.beta * self.bias_p[i][k])\n",
    "                            self.bias_q[k][j] = self.bias_q[k][j] + self.alpha * (error - self.beta * self.bias_q[k][j])\n",
    "                            self.P[i][k] = self.P[i][k] + self.alpha * (2 * error * self.Q[k][j] - self.beta * self.P[i][k])\n",
    "                            self.Q[k][j] = self.Q[k][j] + self.alpha * (2 * error * self.P[i][k] - self.beta * self.Q[k][j])\n",
    "            error = 0\n",
    "            for i in range(self.X.shape[0]):\n",
    "                for j in range(self.X.shape[1]):\n",
    "                    if self.X[i][j] > 0:\n",
    "                        error = error + pow(self.X[i][j] - self.predict_element(i,j), 2)\n",
    "                        for k in range(self.k):\n",
    "                            error = error + (self.beta/2) * (pow(self.P[i][k],2) + pow(self.Q[k][j],2))\n",
    "            self.loss_history.append(error)\n",
    "            if step % 50 == 0:\n",
    "                 print('step {:4}: {:.2f}'.format(step, error), end='\\r')\n",
    "        print('Finished training')\n",
    "    \n",
    "    def predict_element(self, i, j):\n",
    "        prediction = np.dot(self.P[i,:], self.Q[:,j])\n",
    "        prediction += self.bias\n",
    "        for k in range(self.bias_p.shape[1]):\n",
    "            prediction += self.bias_p[i][k]\n",
    "        for k in range(self.bias_q.shape[0]):\n",
    "            prediction += self.bias_q[k][j]\n",
    "        return prediction\n",
    "    \n",
    "    def predict(self):\n",
    "        prediction = []\n",
    "        for i, xi in enumerate(self.X):\n",
    "            prediction.append([])\n",
    "            for j, xij in enumerate(xi):\n",
    "                prediction[i].append(self.predict_element(i,j))            \n",
    "        return np.array(prediction)"
   ]
  },
  {
   "cell_type": "code",
   "execution_count": 6,
   "metadata": {},
   "outputs": [
    {
     "name": "stdout",
     "output_type": "stream",
     "text": [
      "Started training\n",
      "Finished training\n",
      "X\n",
      " [[5. 3. 1. 0.]\n",
      " [0. 0. 4. 5.]\n",
      " [1. 0. 5. 0.]]\n",
      "Prediction\n",
      " [[4.98 2.99 1.01 3.09]\n",
      " [2.77 4.25 4.   4.99]\n",
      " [1.01 3.94 4.99 4.99]]\n",
      "Loss: 0.34\n"
     ]
    },
    {
     "data": {
      "image/png": "[encoded data removed]",
      "text/plain": [
       "<Figure size 432x288 with 1 Axes>"
      ]
     },
     "metadata": {
      "needs_background": "light"
     },
     "output_type": "display_data"
    }
   ],
   "source": [
    "mf = BiasMF(X, k_dim=3)\n",
    "mf.fit()\n",
    "prediction = mf.predict()\n",
    "\n",
    "print('X\\n',X)\n",
    "print('Prediction\\n',prediction)\n",
    "print('Loss: {:.2f}'.format(mf.loss_history[-1]))\n",
    "plt.title('loss over steps'); plt.grid(); plt.plot(mf.loss_history)\n",
    "plt.show()"
   ]
  },
  {
   "cell_type": "markdown",
   "metadata": {},
   "source": [
    "## Non-negative Matrix Factorization"
   ]
  },
  {
   "cell_type": "markdown",
   "metadata": {},
   "source": [
    "入力が非負という制約をつけたMatrix Factorization．  \n",
    "[WIP] ブロードキャスト計算中にどうやって欠損値を判定するかが不明  \n",
    "更新  \n",
    "$$ P_{ik} = P_{ik}\\frac{ [{\\bf XQ}^T]_{ik}}{ [{\\bf PQQ^T}]_{ik}} $$\n",
    "$$ Q_{kj} = P_{kj}\\frac{ [{\\bf P}^T{\\bf X}]_{kj}}{ [{\\bf P}^T{\\bf PQ}]_{kj}} $$"
   ]
  },
  {
   "cell_type": "code",
   "execution_count": 7,
   "metadata": {},
   "outputs": [],
   "source": [
    "class NMF():\n",
    "    def __init__(self, data, k_dim, step=1000, alpha=.002, beta=.02, threshold=.001):\n",
    "        self.X = data\n",
    "        self.k = k_dim\n",
    "        self.P = np.random.rand(self.X.shape[0], self.k)\n",
    "        self.Q = np.random.rand(self.k, self.X.shape[1])\n",
    "        self.alpha = alpha\n",
    "        self.beta = beta\n",
    "        self.steps = step\n",
    "        self.loss_history = []\n",
    "        \n",
    "    def fit(self):\n",
    "        print('Started training')\n",
    "        for step in range(self.steps):\n",
    "            xqt = np.dot(self.X, self.Q.T)\n",
    "            pqqt = np.dot(np.dot(self.P, self.Q), self.Q.T)\n",
    "            self.P = self.P * xqt / pqqt\n",
    "            ptx = np.dot(self.P.T, self.X)\n",
    "            ptpq = np.dot(np.dot(self.P.T, self.P), self.Q)\n",
    "            self.Q = self.Q * ptx / ptpq\n",
    "            \n",
    "            prediction = self.predict()\n",
    "            error = np.sum(np.abs(self.X - prediction))\n",
    "            self.loss_history.append(error)\n",
    "            if step % 50 == 0:\n",
    "                 print('step {:4}: {:.2f}'.format(step, error), end='\\r')\n",
    "        print('Finished training')\n",
    "    \n",
    "    def predict_element(self, i, j):\n",
    "        prediction = np.dot(self.P[i,:], self.Q[:,j])\n",
    "        return prediction\n",
    "    \n",
    "    def predict(self):\n",
    "        prediction = []\n",
    "        for i, xi in enumerate(self.X):\n",
    "            prediction.append([])\n",
    "            for j, xij in enumerate(xi):\n",
    "                prediction[i].append(self.predict_element(i,j))            \n",
    "        return np.array(prediction)"
   ]
  },
  {
   "cell_type": "code",
   "execution_count": 8,
   "metadata": {},
   "outputs": [
    {
     "name": "stdout",
     "output_type": "stream",
     "text": [
      "Started training\n",
      "step    0: 20.30\r",
      "step   50: 0.40\r",
      "step  100: 0.26\r",
      "step  150: 0.19\r",
      "step  200: 0.14\r",
      "step  250: 0.12\r",
      "step  300: 0.10\r",
      "step  350: 0.08\r",
      "step  400: 0.07\r",
      "step  450: 0.06\r",
      "step  500: 0.06\r",
      "step  550: 0.05\r",
      "step  600: 0.05\r",
      "step  650: 0.04\r",
      "step  700: 0.04\r",
      "step  750: 0.04\r",
      "step  800: 0.03\r",
      "step  850: 0.03\r",
      "step  900: 0.03\r",
      "step  950: 0.03\r",
      "Finished training\n",
      "X\n",
      " [[5. 3. 1. 0.]\n",
      " [0. 0. 4. 5.]\n",
      " [1. 0. 5. 0.]]\n",
      "Prediction\n",
      " [[5.   3.   1.   0.  ]\n",
      " [0.02 0.   4.   5.  ]\n",
      " [1.   0.   5.   0.  ]]\n",
      "Loss: 0.03\n"
     ]
    },
    {
     "data": {
      "image/png": "[encoded data removed]",
      "text/plain": [
       "<Figure size 432x288 with 1 Axes>"
      ]
     },
     "metadata": {
      "needs_background": "light"
     },
     "output_type": "display_data"
    }
   ],
   "source": [
    "mf = NMF(X, k_dim=3)\n",
    "mf.fit()\n",
    "prediction = mf.predict()\n",
    "\n",
    "print('X\\n',X)\n",
    "print('Prediction\\n',prediction)\n",
    "print('Loss: {:.2f}'.format(mf.loss_history[-1]))\n",
    "plt.title('loss over steps'); plt.grid(); plt.plot(mf.loss_history)\n",
    "plt.show()"
   ]
  },
  {
   "cell_type": "code",
   "execution_count": null,
   "metadata": {},
   "outputs": [],
   "source": []
  }
 ],
 "metadata": {
  "kernelspec": {
   "display_name": "Python 3",
   "language": "python",
   "name": "python3"
  },
  "language_info": {
   "codemirror_mode": {
    "name": "ipython",
    "version": 3
   },
   "file_extension": ".py",
   "mimetype": "text/x-python",
   "name": "python",
   "nbconvert_exporter": "python",
   "pygments_lexer": "ipython3",
   "version": "3.7.5"
  }
 },
 "nbformat": 4,
 "nbformat_minor": 2
}
