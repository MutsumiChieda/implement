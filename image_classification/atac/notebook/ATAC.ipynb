{
 "cells": [
  {
   "cell_type": "code",
   "execution_count": 1,
   "metadata": {},
   "outputs": [],
   "source": [
    "import sys\n",
    "import numpy as np\n",
    "import matplotlib.pyplot as plt\n",
    "from sklearn.metrics import accuracy_score\n",
    "\n",
    "import torch\n",
    "import torch.nn as nn\n",
    "import torch.optim as optim\n",
    "import torch.utils.data as data\n",
    "import torchvision.transforms as transforms\n",
    "import torchvision\n",
    "\n",
    "sys.path.append('../')\n",
    "import src.resnet50 as resnet50"
   ]
  },
  {
   "cell_type": "code",
   "execution_count": 2,
   "metadata": {},
   "outputs": [
    {
     "name": "stdout",
     "output_type": "stream",
     "text": [
      "Files already downloaded and verified\n",
      "Files already downloaded and verified\n"
     ]
    }
   ],
   "source": [
    "transform = transforms.Compose(\n",
    "    [transforms.ToTensor(),\n",
    "     transforms.Normalize((0.5, 0.5, 0.5), (0.5, 0.5, 0.5))])\n",
    "\n",
    "trainset = torchvision.datasets.CIFAR10(root='../data/input', train=True,\n",
    "                                        download=True, transform=transform)\n",
    "train_dataloader = torch.utils.data.DataLoader(trainset, batch_size=64,\n",
    "                                          shuffle=True, num_workers=4)\n",
    "\n",
    "testset = torchvision.datasets.CIFAR10(root='./data/input', train=False,\n",
    "                                       download=True, transform=transform)\n",
    "test_dataloader = torch.utils.data.DataLoader(testset, batch_size=64,\n",
    "                                         shuffle=False, num_workers=4)\n",
    "\n",
    "classes = ('plane', 'car', 'bird', 'cat',\n",
    "           'deer', 'dog', 'frog', 'horse', 'ship', 'truck')"
   ]
  },
  {
   "cell_type": "code",
   "execution_count": 13,
   "metadata": {},
   "outputs": [],
   "source": [
    "device = torch.device('cuda' if torch.cuda.is_available() else 'cpu')\n",
    "criterion = nn.CrossEntropyLoss()\n",
    "\n",
    "model = resnet50.ResNet50(10).to(device)\n",
    "optimizer = optim.Adam(model.parameters(), weight_decay=0.01)\n",
    "epochs = 10"
   ]
  },
  {
   "cell_type": "code",
   "execution_count": 14,
   "metadata": {},
   "outputs": [],
   "source": [
    "def train_step(x, t):\n",
    "    model.train()\n",
    "    preds = model(x)\n",
    "    loss = criterion(preds, t)\n",
    "    optimizer.zero_grad()\n",
    "    loss.backward()\n",
    "    optimizer.step()\n",
    "    return loss, preds"
   ]
  },
  {
   "cell_type": "code",
   "execution_count": 15,
   "metadata": {},
   "outputs": [],
   "source": [
    "def test_step(x, t):\n",
    "    model.eval()\n",
    "    preds = model(x)\n",
    "    loss = criterion(preds, t)\n",
    "    return loss, preds"
   ]
  },
  {
   "cell_type": "code",
   "execution_count": 29,
   "metadata": {},
   "outputs": [
    {
     "name": "stdout",
     "output_type": "stream",
     "text": [
      "Valid Loss: 2.000, Valid Acc: 0.000\n",
      "Valid Loss: 2.000, Valid Acc: 0.000\n",
      "Valid Loss: 2.000, Valid Acc: 0.000\n",
      "Valid Loss: 2.000, Valid Acc: 0.000\n",
      "Valid Loss: 2.000, Valid Acc: 0.000\n",
      "Valid Loss: 2.000, Valid Acc: 0.000\n",
      "Valid Loss: 2.000, Valid Acc: 0.000\n",
      "Valid Loss: 2.000, Valid Acc: 0.000\n",
      "Valid Loss: 2.000, Valid Acc: 0.000\n",
      "Valid Loss: 2.000, Valid Acc: 0.000\n"
     ]
    }
   ],
   "source": [
    "n_batch_train = len(train_dataloader)\n",
    "n_batch_test = len(test_dataloader)\n",
    "loss_record = []\n",
    "for epoch in range(epochs):\n",
    "    \n",
    "    train_loss = 0.\n",
    "    test_loss = 0.\n",
    "    test_acc = 0.\n",
    "    print(f'Ep. {epoch:>4}:')\n",
    "    for b_no, (x, t) in enumerate(train_dataloader):\n",
    "        print(f'[train] batch no. {b_no:>5} / {n_batch_train:>5}', end='\\r')\n",
    "        x, t = x.to(device), t.to(device)\n",
    "        loss, _ = train_step(x, t)\n",
    "        train_loss += loss.item()\n",
    "    train_loss /= n_batch_train\n",
    "    for b_no, (x, t) in enumerate(test_dataloader):\n",
    "        print(f'[test] batch no. {b_no:>5} / {n_batch_test:>5}', end='\\r')\n",
    "        x, t = x.to(device), t.to(device)\n",
    "        loss, preds = test_step(x, t)\n",
    "        test_loss += loss.item()\n",
    "        test_acc += accuracy_score(t.tolist(), preds.argmax(dim=-1).tolist())\n",
    "    test_loss /= n_batch_test\n",
    "    test_acc /= n_batch_test\n",
    "    \n",
    "    loss_record.append([train_loss, test_loss])\n",
    "    print(f'Valid Loss: {test_loss:.3f}, Valid Acc: {test_acc:.3f}')\n",
    "loss_record = np.array(loss_record)"
   ]
  },
  {
   "cell_type": "code",
   "execution_count": 32,
   "metadata": {},
   "outputs": [
    {
     "data": {
      "image/png": "[encoded data removed]",
      "text/plain": [
       "<Figure size 432x288 with 1 Axes>"
      ]
     },
     "metadata": {
      "needs_background": "light"
     },
     "output_type": "display_data"
    }
   ],
   "source": [
    "plt.plot(loss_record[:,0], label='loss')\n",
    "plt.plot(loss_record[:,1], label='acc')\n",
    "plt.legend()\n",
    "plt.show()"
   ]
  },
  {
   "cell_type": "code",
   "execution_count": null,
   "metadata": {},
   "outputs": [],
   "source": []
  }
 ],
 "metadata": {
  "kernelspec": {
   "display_name": "Python 3",
   "language": "python",
   "name": "python3"
  },
  "language_info": {
   "codemirror_mode": {
    "name": "ipython",
    "version": 3
   },
   "file_extension": ".py",
   "mimetype": "text/x-python",
   "name": "python",
   "nbconvert_exporter": "python",
   "pygments_lexer": "ipython3",
   "version": "3.7.7"
  }
 },
 "nbformat": 4,
 "nbformat_minor": 4
}
