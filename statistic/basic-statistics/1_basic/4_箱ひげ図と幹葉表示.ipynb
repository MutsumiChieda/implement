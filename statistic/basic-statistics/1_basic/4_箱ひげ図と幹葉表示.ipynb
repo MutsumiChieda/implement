{
 "cells": [
  {
   "cell_type": "code",
   "execution_count": 13,
   "metadata": {},
   "outputs": [],
   "source": [
    "import numpy as np\n",
    "import pandas as pd\n",
    "%matplotlib inline\n",
    "import matplotlib.pyplot as plt"
   ]
  },
  {
   "cell_type": "markdown",
   "metadata": {},
   "source": [
    "## 外れ値検出ありの箱ひげ図\n",
    "外れ値検出の基準は以下の通りである．  \n",
    "IQR = 第三四分位数 - 第一四分位数  \n",
    "ひげ下限: 第一四分位数 - 1.5 $\\times$ IQR  \n",
    "ひげ上限: 第三四分位数 + 1.5 $\\times$ IQR"
   ]
  },
  {
   "cell_type": "code",
   "execution_count": 14,
   "metadata": {},
   "outputs": [
    {
     "data": {
      "image/png": "[encoded data removed]",
      "text/plain": [
       "<Figure size 432x288 with 1 Axes>"
      ]
     },
     "metadata": {
      "needs_background": "light"
     },
     "output_type": "display_data"
    }
   ],
   "source": [
    "score = [81, 62, 32, 67, 41, 50, 85, 100, 170, 190]\n",
    "points = (score,)\n",
    "\n",
    "plt.figure(figsize=(6,4))\n",
    "plt.boxplot(points)\n",
    "\n",
    "plt.title('Box plot')\n",
    "plt.xlabel('exams')\n",
    "plt.ylabel('point')\n",
    "plt.ylim([0,200])\n",
    "plt.grid()\n",
    "\n",
    "plt.show()"
   ]
  },
  {
   "cell_type": "markdown",
   "metadata": {},
   "source": [
    "## 幹葉表示\n",
    "データの10の位を幹，1の位を葉として分割する．  "
   ]
  },
  {
   "cell_type": "code",
   "execution_count": 38,
   "metadata": {},
   "outputs": [
    {
     "data": {
      "text/plain": [
       "stem\n",
       "2             [7]\n",
       "3    [0, 3, 3, 7]\n",
       "4          [1, 5]\n",
       "Name: leaf, dtype: object"
      ]
     },
     "execution_count": 38,
     "metadata": {},
     "output_type": "execute_result"
    }
   ],
   "source": [
    "x = np.array([27,30,33,33,37,41,45])\n",
    "df = pd.DataFrame()\n",
    "\n",
    "df['stem'] = x//10\n",
    "df['leaf'] = x % 10\n",
    "df['leaf'] = df['leaf'].map(lambda x: [x,])\n",
    "df = df.groupby('stem')['leaf'].sum()\n",
    "\n",
    "df"
   ]
  }
 ],
 "metadata": {
  "kernelspec": {
   "display_name": "Python 3",
   "language": "python",
   "name": "python3"
  },
  "language_info": {
   "codemirror_mode": {
    "name": "ipython",
    "version": 3
   },
   "file_extension": ".py",
   "mimetype": "text/x-python",
   "name": "python",
   "nbconvert_exporter": "python",
   "pygments_lexer": "ipython3",
   "version": "3.7.3"
  }
 },
 "nbformat": 4,
 "nbformat_minor": 2
}
