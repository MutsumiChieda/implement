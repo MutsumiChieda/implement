{
 "cells": [
  {
   "cell_type": "code",
   "execution_count": 1,
   "metadata": {},
   "outputs": [],
   "source": [
    "import numpy as np\n",
    "from scipy.stats import norm\n",
    "import pandas as pd\n",
    "%matplotlib inline\n",
    "import matplotlib.pyplot as plt"
   ]
  },
  {
   "cell_type": "code",
   "execution_count": 2,
   "metadata": {},
   "outputs": [],
   "source": [
    "def plot_distribution(distribution, color=None):\n",
    "    px = pd.Series(distribution)\n",
    "    px = pd.cut(px, 100)\n",
    "    px = px.value_counts().sort_index() / len(px)\n",
    "    px.index = px.index.map(lambda x: x.left).values.astype(np.float32)\n",
    "    plt.plot(px.index, px.values, c=color)\n",
    "    plt.grid()\n",
    "    plt.xlabel('k')\n",
    "    plt.ylabel('P(X=k)')\n",
    "size = 10000"
   ]
  },
  {
   "cell_type": "markdown",
   "metadata": {},
   "source": [
    "## 指数分布\n",
    "ある期間に平均$\\lambda$回起こる現象が次に起こるまでの期間$X$が従う分布．  \n",
    "$$f(x) = \\lambda e^{-\\lambda x} \\quad (x \\geq 0)$$\n",
    "期待値は$\\frac{1}{\\lambda}$，分散は$\\frac{1}{\\lambda^2}$となる．"
   ]
  },
  {
   "cell_type": "code",
   "execution_count": 5,
   "metadata": {},
   "outputs": [
    {
     "data": {
      "image/png": "[encoded data removed]",
      "text/plain": [
       "<Figure size 432x288 with 1 Axes>"
      ]
     },
     "metadata": {
      "needs_background": "light"
     },
     "output_type": "display_data"
    }
   ],
   "source": [
    "# arguments: (scale, size) where scale is inverse of lambda\n",
    "lambda_ = 1\n",
    "plot_distribution(np.random.exponential(1/lambda_,size), color='#6699ff')\n",
    "lambda_ = 3\n",
    "plot_distribution(np.random.exponential(1/lambda_,size), color='orange')\n",
    "\n",
    "plt.show()"
   ]
  },
  {
   "cell_type": "markdown",
   "metadata": {},
   "source": [
    "## 一様分布\n",
    "### 離散一様分布\n",
    "$$P(X=k) = \\frac{1}{b-a+1} \\quad (k=a,a+1,\\cdots, b)$$\n",
    "期待値は$\\frac{a+b}{2}$，分散は$\\frac{(b-a+1)^2-1}{12}$となる．\n",
    "\n",
    "### 連続一様分布\n",
    "$$f(x) = \\frac{1}{b-a} \\quad (a \\leq X \\leq b)$$\n",
    "期待値は$\\frac{a+b}{2}$，分散は$\\frac{(b-a)^2}{12}$となる．"
   ]
  },
  {
   "cell_type": "markdown",
   "metadata": {},
   "source": [
    "## 同時確率分布\n",
    "期待値:$E(X \\pm Y) = E(X) \\pm E(Y)$  \n",
    "分散:$V(X \\pm Y) = V(X)+V(Y) \\pm 2\\Sigma(X,Y)$  \n",
    "共分散:$\\Sigma(X,Y) = E [(X-\\mu_x)(Y-\\mu_y)]$  \n",
    "\n",
    "相関係数:$\\rho = \\frac{\\Sigma(X,Y)}{\\sqrt{V(X)V(Y)}}$"
   ]
  },
  {
   "cell_type": "code",
   "execution_count": null,
   "metadata": {},
   "outputs": [],
   "source": []
  }
 ],
 "metadata": {
  "kernelspec": {
   "display_name": "Python 3",
   "language": "python",
   "name": "python3"
  },
  "language_info": {
   "codemirror_mode": {
    "name": "ipython",
    "version": 3
   },
   "file_extension": ".py",
   "mimetype": "text/x-python",
   "name": "python",
   "nbconvert_exporter": "python",
   "pygments_lexer": "ipython3",
   "version": "3.7.3"
  }
 },
 "nbformat": 4,
 "nbformat_minor": 2
}
