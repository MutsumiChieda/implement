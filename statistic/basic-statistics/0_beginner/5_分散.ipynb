{
 "cells": [
  {
   "cell_type": "code",
   "execution_count": 1,
   "metadata": {},
   "outputs": [],
   "source": [
    "import numpy as np\n",
    "import scipy.stats as st\n",
    "import pandas as pd\n",
    "%matplotlib inline \n",
    "import matplotlib.pyplot as plt"
   ]
  },
  {
   "cell_type": "markdown",
   "metadata": {},
   "source": [
    "## 分散，標準偏差\n",
    "$$ v(x) = \\frac{1}{N} \\sum_i (x_i - \\bar{x})^2 $$\n",
    "$$ \\sigma(x) = \\sqrt{v(x)} $$"
   ]
  },
  {
   "cell_type": "code",
   "execution_count": 2,
   "metadata": {},
   "outputs": [
    {
     "name": "stdout",
     "output_type": "stream",
     "text": [
      "v: ok\n",
      "s: ok\n"
     ]
    }
   ],
   "source": [
    "a = np.array([50,30,60,25,65])\n",
    "v = np.var(a)\n",
    "s = np.std(a)\n",
    "\n",
    "# 手計算 (not really)\n",
    "diff = a - np.mean(a)\n",
    "v_man = np.sum(pow(diff, 2)) / len(a)\n",
    "s_man = np.sqrt(v_man)\n",
    "\n",
    "# Assertion\n",
    "if v_man == v:\n",
    "    print('v: ok')\n",
    "if s_man == s:\n",
    "    print('s: ok')"
   ]
  },
  {
   "cell_type": "markdown",
   "metadata": {},
   "source": [
    "## 乗算時の性質\n",
    "$$ v(ax) = a^2 v(x) $$\n",
    "$$ \\sigma(ax) = a\\sigma(x) $$"
   ]
  },
  {
   "cell_type": "code",
   "execution_count": 3,
   "metadata": {},
   "outputs": [
    {
     "name": "stdout",
     "output_type": "stream",
     "text": [
      "4.0\n",
      "2.0\n"
     ]
    }
   ],
   "source": [
    "coef = 2\n",
    "\n",
    "a2 = a * coef\n",
    "v2 = np.var(a2)\n",
    "s2 = np.std(a2)\n",
    "\n",
    "print(v2/v)\n",
    "print(s2/s)"
   ]
  },
  {
   "cell_type": "markdown",
   "metadata": {},
   "source": [
    "## 変動係数\n",
    "$$c_v = \\frac{\\sigma}{\\bar{x}}$$"
   ]
  },
  {
   "cell_type": "code",
   "execution_count": 4,
   "metadata": {},
   "outputs": [
    {
     "name": "stdout",
     "output_type": "stream",
     "text": [
      "ok\n"
     ]
    }
   ],
   "source": [
    "c = st.variation(a)\n",
    "\n",
    "# 手計算\n",
    "c_man = s / np.mean(a)\n",
    "\n",
    "if c == c_man:\n",
    "    print('ok')"
   ]
  },
  {
   "cell_type": "code",
   "execution_count": null,
   "metadata": {},
   "outputs": [],
   "source": []
  }
 ],
 "metadata": {
  "kernelspec": {
   "display_name": "Python 3",
   "language": "python",
   "name": "python3"
  },
  "language_info": {
   "codemirror_mode": {
    "name": "ipython",
    "version": 3
   },
   "file_extension": ".py",
   "mimetype": "text/x-python",
   "name": "python",
   "nbconvert_exporter": "python",
   "pygments_lexer": "ipython3",
   "version": "3.7.3"
  }
 },
 "nbformat": 4,
 "nbformat_minor": 2
}
