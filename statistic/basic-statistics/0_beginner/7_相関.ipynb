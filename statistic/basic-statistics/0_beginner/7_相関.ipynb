{
 "cells": [
  {
   "cell_type": "code",
   "execution_count": 1,
   "metadata": {},
   "outputs": [],
   "source": [
    "import numpy as np\n",
    "import pandas as pd\n",
    "%matplotlib inline\n",
    "import matplotlib.pyplot as plt"
   ]
  },
  {
   "cell_type": "code",
   "execution_count": 9,
   "metadata": {},
   "outputs": [
    {
     "data": {
      "text/html": [
       "<div>\n",
       "<style scoped>\n",
       "    .dataframe tbody tr th:only-of-type {\n",
       "        vertical-align: middle;\n",
       "    }\n",
       "\n",
       "    .dataframe tbody tr th {\n",
       "        vertical-align: top;\n",
       "    }\n",
       "\n",
       "    .dataframe thead th {\n",
       "        text-align: right;\n",
       "    }\n",
       "</style>\n",
       "<table border=\"1\" class=\"dataframe\">\n",
       "  <thead>\n",
       "    <tr style=\"text-align: right;\">\n",
       "      <th></th>\n",
       "      <th>Throw</th>\n",
       "      <th>Run</th>\n",
       "      <th>Jump</th>\n",
       "    </tr>\n",
       "  </thead>\n",
       "  <tbody>\n",
       "    <tr>\n",
       "      <th>R</th>\n",
       "      <td>3.5</td>\n",
       "      <td>4.0</td>\n",
       "      <td>8.0</td>\n",
       "    </tr>\n",
       "    <tr>\n",
       "      <th>B</th>\n",
       "      <td>7.5</td>\n",
       "      <td>4.0</td>\n",
       "      <td>4.0</td>\n",
       "    </tr>\n",
       "    <tr>\n",
       "      <th>Y</th>\n",
       "      <td>6.0</td>\n",
       "      <td>7.0</td>\n",
       "      <td>6.5</td>\n",
       "    </tr>\n",
       "    <tr>\n",
       "      <th>G</th>\n",
       "      <td>4.0</td>\n",
       "      <td>7.5</td>\n",
       "      <td>4.5</td>\n",
       "    </tr>\n",
       "    <tr>\n",
       "      <th>K</th>\n",
       "      <td>5.0</td>\n",
       "      <td>5.0</td>\n",
       "      <td>5.0</td>\n",
       "    </tr>\n",
       "  </tbody>\n",
       "</table>\n",
       "</div>"
      ],
      "text/plain": [
       "   Throw  Run  Jump\n",
       "R    3.5  4.0   8.0\n",
       "B    7.5  4.0   4.0\n",
       "Y    6.0  7.0   6.5\n",
       "G    4.0  7.5   4.5\n",
       "K    5.0  5.0   5.0"
      ]
     },
     "execution_count": 9,
     "metadata": {},
     "output_type": "execute_result"
    }
   ],
   "source": [
    "df = pd.DataFrame([[3.5,4,8],[7.5,4,4],\n",
    "                                   [6,7,6.5],[4,7.5,4.5],\n",
    "                                   [5,5,5]], \n",
    "                 columns=['Throw','Run','Jump'],\n",
    "                 index=['R','B','Y','G','K'])\n",
    "df"
   ]
  },
  {
   "cell_type": "markdown",
   "metadata": {},
   "source": [
    "## バブルチャート"
   ]
  },
  {
   "cell_type": "code",
   "execution_count": 14,
   "metadata": {},
   "outputs": [
    {
     "data": {
      "image/png": "[encoded data removed]",
      "text/plain": [
       "<Figure size 432x288 with 1 Axes>"
      ]
     },
     "metadata": {
      "needs_background": "light"
     },
     "output_type": "display_data"
    }
   ],
   "source": [
    "plt.scatter(df.Throw, df.Run, s=df.Jump*1000, alpha=.5,c=df.index)\n",
    "\n",
    "plt.xlabel('Throw'); plt.xlim(0,10)\n",
    "plt.ylabel('Run'); plt.ylim(0,10)\n",
    "plt.grid()\n",
    "\n",
    "plt.show()"
   ]
  },
  {
   "cell_type": "markdown",
   "metadata": {},
   "source": [
    "## 相関係数\n",
    "$$r_{xy} = \\frac{\\frac{1}{N}\\sum_i (x_i - \\bar{x})(y_i-\\bar{y}) }{\\sqrt{ \\frac{1}{N} \\sum_i (x_i - \\bar{x})^2} \\times \\sqrt{ \\frac{1}{N}\\sum_i (y_i - \\bar{y})^2}}$$\n",
    "### 注意点\n",
    "- ただし，外れ値に強く影響されるため，計算前に**散布図を確認して**排除する．  \n",
    "- 相関係数は元データに一律加算・乗算(正の値のみ)しても変化しない． \n",
    "- 相関係数は線形でない関係を反映できない．\n",
    "\n"
   ]
  },
  {
   "cell_type": "code",
   "execution_count": 27,
   "metadata": {},
   "outputs": [
    {
     "name": "stdout",
     "output_type": "stream",
     "text": [
      "r: 0.7682198614454236\n",
      "ok\n"
     ]
    }
   ],
   "source": [
    "x = np.array([100,150,50,75,60,125,200])\n",
    "y = np.array([20,30,15,25,30,35,40])\n",
    "r = np.corrcoef(x,y)[0,1]\n",
    "\n",
    "# 手計算\n",
    "x_diff = x - np.mean(x)\n",
    "y_diff = y - np.mean(y)\n",
    "r_upper = np.sum(x_diff * y_diff) / len(x)\n",
    "r_lower = (np.sqrt(np.sum(pow(x_diff,2)) / len(x))) * \\\n",
    "                 (np.sqrt(np.sum(pow(y_diff,2)) / len(x)))\n",
    "r_man = r_upper / r_lower\n",
    "print('r:',r_man)\n",
    "\n",
    "# Assertion\n",
    "np.testing.assert_approx_equal(r_man, r)\n",
    "print('ok')"
   ]
  },
  {
   "cell_type": "markdown",
   "metadata": {},
   "source": []
  }
 ],
 "metadata": {
  "kernelspec": {
   "display_name": "Python 3",
   "language": "python",
   "name": "python3"
  },
  "language_info": {
   "codemirror_mode": {
    "name": "ipython",
    "version": 3
   },
   "file_extension": ".py",
   "mimetype": "text/x-python",
   "name": "python",
   "nbconvert_exporter": "python",
   "pygments_lexer": "ipython3",
   "version": "3.7.5"
  }
 },
 "nbformat": 4,
 "nbformat_minor": 2
}
