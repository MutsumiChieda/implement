{
 "cells": [
  {
   "cell_type": "code",
   "execution_count": 1,
   "metadata": {},
   "outputs": [],
   "source": [
    "import numpy as np\n",
    "import pandas as pd\n",
    "from tqdm import tqdm\n",
    "\n",
    "draw = False\n",
    "\n",
    "data = pd.read_csv('./data.tsv', sep='\\t', index_col='PersonID')\n",
    "\n",
    "target = data.Age\n",
    "data.drop(['Age'],axis=1, inplace=True)"
   ]
  },
  {
   "cell_type": "markdown",
   "metadata": {},
   "source": [
    "## Patch note\n",
    "単一の予測値でモデルを初期化するように変更  \n",
    "MSEを最小化する単一の予測値は平均なので，平均で初期化"
   ]
  },
  {
   "cell_type": "code",
   "execution_count": 2,
   "metadata": {},
   "outputs": [],
   "source": [
    "from sklearn.tree import DecisionTreeRegressor\n",
    "from sklearn.metrics import mean_squared_error\n",
    "import graphviz\n",
    "from sklearn.tree import export_graphviz\n",
    "\n",
    "f = []\n",
    "y = []\n",
    "mse=[]\n",
    "\n",
    "# Model Init\n",
    "y.append([np.mean(target)] * len(target))\n",
    "pred = np.sum(y, axis=0)\n",
    "mse.append(mean_squared_error(pred, target))\n",
    "residual = target - pred"
   ]
  },
  {
   "cell_type": "code",
   "execution_count": 3,
   "metadata": {},
   "outputs": [
    {
     "name": "stderr",
     "output_type": "stream",
     "text": [
      "\r",
      "  0%|          | 0/50 [00:00<?, ?it/s]"
     ]
    },
    {
     "name": "stdout",
     "output_type": "stream",
     "text": [
      "early stop at iter 15\n"
     ]
    },
    {
     "name": "stderr",
     "output_type": "stream",
     "text": [
      "\n"
     ]
    }
   ],
   "source": [
    "for iter_ in tqdm(range(50)):\n",
    "    f.append(DecisionTreeRegressor(min_samples_leaf=2))\n",
    "    f[-1].fit(data, residual)\n",
    "    y.append(f[-1].predict(data))\n",
    "    pred = np.sum(y, axis=0)\n",
    "    mse.append(mean_squared_error(pred, target))\n",
    "    \n",
    "    if draw:\n",
    "        dot_data = export_graphviz(f[-1],\n",
    "                                   feature_names=data.columns,\n",
    "                                   filled=True,\n",
    "                                   rounded=True,\n",
    "                                   out_file=None )\n",
    "        graph = graphviz.Source(dot_data)\n",
    "        graph.render(\"trees/simpletree\"+str(iter_))\n",
    "\n",
    "    residual = target - pred\n",
    "    \n",
    "    if(iter_ > 1 and (mse[-2] - mse[-1]) < 1e-4):\n",
    "        print('early stop at iter', iter_)\n",
    "        break"
   ]
  },
  {
   "cell_type": "code",
   "execution_count": 4,
   "metadata": {},
   "outputs": [
    {
     "data": {
      "text/plain": [
       "[<matplotlib.lines.Line2D at 0x11d53a7b8>]"
      ]
     },
     "execution_count": 4,
     "metadata": {},
     "output_type": "execute_result"
    },
    {
     "data": {
      "image/png": "[encoded data removed]",
      "text/plain": [
       "<Figure size 432x288 with 1 Axes>"
      ]
     },
     "metadata": {
      "needs_background": "light"
     },
     "output_type": "display_data"
    }
   ],
   "source": [
    "%matplotlib inline\n",
    "import matplotlib.pyplot as plt\n",
    "plt.xlabel('iter')\n",
    "plt.ylabel('mse')\n",
    "plt.grid()\n",
    "plt.plot(np.arange(1, len(mse)+1), mse)"
   ]
  },
  {
   "cell_type": "code",
   "execution_count": 8,
   "metadata": {},
   "outputs": [
    {
     "data": {
      "text/plain": [
       "<matplotlib.collections.PathCollection at 0x1a20a19e80>"
      ]
     },
     "execution_count": 8,
     "metadata": {},
     "output_type": "execute_result"
    },
    {
     "data": {
      "image/png": "[encoded data removed]",
      "text/plain": [
       "<Figure size 432x288 with 1 Axes>"
      ]
     },
     "metadata": {
      "needs_background": "light"
     },
     "output_type": "display_data"
    }
   ],
   "source": [
    "plt.plot(pred)\n",
    "plt.scatter(range(len(target)), target)"
   ]
  },
  {
   "cell_type": "markdown",
   "metadata": {},
   "source": [
    "## Original Algorithm"
   ]
  },
  {
   "cell_type": "code",
   "execution_count": 6,
   "metadata": {},
   "outputs": [],
   "source": [
    "# F[0](data) = argmin(p) sum(L(y, p))\n",
    "# for m in range(M):\n",
    "#     residual = -grad( dL(y,F(data))/dF(data) )\n",
    "#     a[m] = argmin(a, b) sum(residual - b*h(data, a))^2\n",
    "#     p[m] = argmin(p) sum(L(y, F[m-1](data) + p*h(data, a[m])))\n",
    "#     F[m] = F[m-1](data) + p[m]*h(data, a[m])\n",
    "# sum(F)"
   ]
  }
 ],
 "metadata": {
  "kernelspec": {
   "display_name": "Python 3",
   "language": "python",
   "name": "python3"
  },
  "language_info": {
   "codemirror_mode": {
    "name": "ipython",
    "version": 3
   },
   "file_extension": ".py",
   "mimetype": "text/x-python",
   "name": "python",
   "nbconvert_exporter": "python",
   "pygments_lexer": "ipython3",
   "version": "3.7.2"
  }
 },
 "nbformat": 4,
 "nbformat_minor": 2
}
