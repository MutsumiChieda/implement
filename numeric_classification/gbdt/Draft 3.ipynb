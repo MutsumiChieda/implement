{
 "cells": [
  {
   "cell_type": "code",
   "execution_count": 8,
   "metadata": {},
   "outputs": [],
   "source": [
    "import numpy as np\n",
    "import pandas as pd\n",
    "from tqdm import tqdm\n",
    "\n",
    "draw = False\n",
    "\n",
    "data = pd.read_csv('./data.tsv', sep='\\t', index_col='PersonID')\n",
    "\n",
    "target = data.Age\n",
    "data.drop(['Age'],axis=1, inplace=True)"
   ]
  },
  {
   "cell_type": "markdown",
   "metadata": {},
   "source": [
    "## Patch note\n",
    "モデルを損失関数L(y,F0(x))の傾き(MAEでは残差の符号)を訓練するよう変更  \n",
    "ステップ倍率を探索し，現在のモデルにかけてから加算するよう変更"
   ]
  },
  {
   "cell_type": "code",
   "execution_count": 9,
   "metadata": {},
   "outputs": [],
   "source": [
    "from sklearn.tree import DecisionTreeRegressor\n",
    "from sklearn.metrics import mean_squared_error as mse\n",
    "from sklearn.metrics import mean_absolute_error as mae\n",
    "import graphviz\n",
    "from sklearn.tree import export_graphviz\n",
    "\n",
    "f = []\n",
    "y = []\n",
    "l = []\n",
    "\n",
    "# Model Init\n",
    "y.append([np.mean(target)] * len(target))\n",
    "pred = np.sum(y, axis=0)\n",
    "l.append(mae(pred, target))\n",
    "residual = target - pred\n",
    "residual /= abs(residual)"
   ]
  },
  {
   "cell_type": "code",
   "execution_count": 10,
   "metadata": {},
   "outputs": [
    {
     "name": "stderr",
     "output_type": "stream",
     "text": [
      "  9%|▉         | 9/100 [00:00<00:08, 10.69it/s]"
     ]
    },
    {
     "name": "stdout",
     "output_type": "stream",
     "text": [
      "early stop at iter 9\n"
     ]
    },
    {
     "name": "stderr",
     "output_type": "stream",
     "text": [
      "\n"
     ]
    }
   ],
   "source": [
    "for iter_ in tqdm(range(100)):\n",
    "    f.append(DecisionTreeRegressor(min_samples_leaf=2))\n",
    "    f[-1].fit(data, residual)\n",
    "    \n",
    "    # search for the best gamma\n",
    "    gammas = np.linspace(0, 10, 100)\n",
    "    tmp_losses = []\n",
    "    for gamma_ in gammas:\n",
    "        tmp_pred = pred + gamma_ * (f[-1].predict(data))\n",
    "        tmp_losses.append(mae(tmp_pred, target))\n",
    "    gamma = gammas[np.argmin(tmp_losses)]\n",
    "    \n",
    "    pred = pred + gamma * (f[-1].predict(data))\n",
    "    l.append(mae(pred, target))\n",
    "    residual = target - pred\n",
    "    residual /= abs(residual)\n",
    "    \n",
    "#     if draw:\n",
    "#         dot_data = export_graphviz(f[-1],\n",
    "#                                    feature_names=data.columns,\n",
    "#                                    filled=True,\n",
    "#                                    rounded=True,\n",
    "#                                    out_file=None )\n",
    "#         graph = graphviz.Source(dot_data)\n",
    "#         graph.render(\"trees/simpletree\"+str(iter_))\n",
    "    \n",
    "    if(iter_ > 1 and (l[-2] - l[-1]) < 1e-4): \n",
    "        print('early stop at iter', iter_)\n",
    "        break"
   ]
  },
  {
   "cell_type": "code",
   "execution_count": 11,
   "metadata": {},
   "outputs": [
    {
     "data": {
      "text/plain": [
       "[<matplotlib.lines.Line2D at 0x1a15a6d908>]"
      ]
     },
     "execution_count": 11,
     "metadata": {},
     "output_type": "execute_result"
    },
    {
     "data": {
      "image/png": "[encoded data removed]",
      "text/plain": [
       "<Figure size 432x288 with 1 Axes>"
      ]
     },
     "metadata": {
      "needs_background": "light"
     },
     "output_type": "display_data"
    }
   ],
   "source": [
    "%matplotlib inline\n",
    "import matplotlib.pyplot as plt\n",
    "plt.xlabel('iter')\n",
    "plt.ylabel('loss')\n",
    "plt.grid()\n",
    "plt.plot(np.arange(1, len(l)+1), l)"
   ]
  },
  {
   "cell_type": "code",
   "execution_count": 12,
   "metadata": {},
   "outputs": [
    {
     "data": {
      "text/plain": [
       "<matplotlib.collections.PathCollection at 0x1a15b787f0>"
      ]
     },
     "execution_count": 12,
     "metadata": {},
     "output_type": "execute_result"
    },
    {
     "data": {
      "image/png": "[encoded data removed]",
      "text/plain": [
       "<Figure size 432x288 with 1 Axes>"
      ]
     },
     "metadata": {
      "needs_background": "light"
     },
     "output_type": "display_data"
    }
   ],
   "source": [
    "plt.plot(pred)\n",
    "plt.scatter(range(len(target)), target)"
   ]
  },
  {
   "cell_type": "markdown",
   "metadata": {},
   "source": [
    "## Original Algorithm"
   ]
  },
  {
   "cell_type": "code",
   "execution_count": 13,
   "metadata": {},
   "outputs": [],
   "source": [
    "# F[0](data) = argmin(p) sum(L(y, p))\n",
    "# for m in range(M):\n",
    "#     residual = -grad( dL(y,F(data))/dF(data) )\n",
    "#     a[m] = argmin(a, b) sum(residual - b*h(data, a))^2\n",
    "#     p[m] = argmin(p) sum(L(y, F[m-1](data) + p*h(data, a[m])))\n",
    "#     F[m] = F[m-1](data) + p[m]*h(data, a[m])\n",
    "# sum(F)"
   ]
  }
 ],
 "metadata": {
  "kernelspec": {
   "display_name": "Python 3",
   "language": "python",
   "name": "python3"
  },
  "language_info": {
   "codemirror_mode": {
    "name": "ipython",
    "version": 3
   },
   "file_extension": ".py",
   "mimetype": "text/x-python",
   "name": "python",
   "nbconvert_exporter": "python",
   "pygments_lexer": "ipython3",
   "version": "3.7.2"
  }
 },
 "nbformat": 4,
 "nbformat_minor": 2
}
