{
 "cells": [
  {
   "cell_type": "code",
   "execution_count": 1,
   "metadata": {},
   "outputs": [],
   "source": [
    "import numpy as np\n",
    "import pandas as pd\n",
    "from tqdm import tqdm\n",
    "\n",
    "draw = True\n",
    "\n",
    "data = pd.read_csv('./data.tsv', sep='\\t', index_col='PersonID')\n",
    "\n",
    "target = data.Age\n",
    "data.drop(['Age'],axis=1, inplace=True)"
   ]
  },
  {
   "cell_type": "markdown",
   "metadata": {},
   "source": [
    "## Patch note\n",
    "収縮機構を追加  \n",
    "学習ごとにγに0~1の値をかける"
   ]
  },
  {
   "cell_type": "code",
   "execution_count": 2,
   "metadata": {},
   "outputs": [],
   "source": [
    "from sklearn.tree import DecisionTreeRegressor\n",
    "from sklearn.metrics import mean_squared_error as mse\n",
    "from sklearn.metrics import mean_absolute_error as mae\n",
    "import graphviz\n",
    "from sklearn.tree import export_graphviz\n",
    "\n",
    "f = []\n",
    "l = []\n",
    "shrink = 0.8\n",
    "gamma = 1\n",
    "\n",
    "# Model Init\n",
    "pred = [np.mean(target)] * len(target)\n",
    "l.append(mae(pred, target))\n",
    "residual = target - pred\n",
    "residual /= abs(residual)"
   ]
  },
  {
   "cell_type": "code",
   "execution_count": 3,
   "metadata": {},
   "outputs": [
    {
     "name": "stderr",
     "output_type": "stream",
     "text": [
      "  1%|          | 12/1000 [00:01<01:26, 11.48it/s]"
     ]
    },
    {
     "name": "stdout",
     "output_type": "stream",
     "text": [
      "early stop at iter 12\n"
     ]
    },
    {
     "name": "stderr",
     "output_type": "stream",
     "text": [
      "\n"
     ]
    }
   ],
   "source": [
    "for iter_ in tqdm(range(100)):\n",
    "    f.append(DecisionTreeRegressor(min_samples_leaf=2))\n",
    "    f[-1].fit(data, residual)\n",
    "    \n",
    "    # search for the best gamma\n",
    "    gammas = np.linspace(0, 10, 100)\n",
    "    tmp_losses = []\n",
    "    for gamma_ in gammas:\n",
    "        tmp_pred = pred + gamma_ * (f[-1].predict(data))\n",
    "        tmp_losses.append(mae(tmp_pred, target))\n",
    "    gamma = gammas[np.argmin(tmp_losses)]\n",
    "    \n",
    "    pred = pred + shrink * gamma * (f[-1].predict(data))\n",
    "    l.append(mae(pred, target))\n",
    "    residual = target - pred\n",
    "    residual /= abs(residual)\n",
    "    \n",
    "#     if draw:\n",
    "#         dot_data = export_graphviz(f[-1],\n",
    "#                                    feature_names=data.columns,\n",
    "#                                    filled=True,\n",
    "#                                    rounded=True,\n",
    "#                                    out_file=None )\n",
    "#         graph = graphviz.Source(dot_data)\n",
    "#         graph.render(\"trees/simpletree\"+str(iter_))\n",
    "    \n",
    "    if(iter_ > 1 and (l[-2] - l[-1]) < 1e-6): \n",
    "        print('early stop at iter', iter_)\n",
    "        break"
   ]
  },
  {
   "cell_type": "code",
   "execution_count": 4,
   "metadata": {},
   "outputs": [
    {
     "data": {
      "text/plain": [
       "[<matplotlib.lines.Line2D at 0x1a1fc1a6a0>]"
      ]
     },
     "execution_count": 4,
     "metadata": {},
     "output_type": "execute_result"
    },
    {
     "data": {
      "image/png": "[encoded data removed]",
      "text/plain": [
       "<Figure size 432x288 with 1 Axes>"
      ]
     },
     "metadata": {
      "needs_background": "light"
     },
     "output_type": "display_data"
    }
   ],
   "source": [
    "%matplotlib inline\n",
    "import matplotlib.pyplot as plt\n",
    "plt.xlabel('iter')\n",
    "plt.ylabel('loss')\n",
    "plt.grid()\n",
    "plt.plot(np.arange(1, len(l)+1), l)"
   ]
  },
  {
   "cell_type": "code",
   "execution_count": 5,
   "metadata": {},
   "outputs": [
    {
     "data": {
      "text/plain": [
       "<matplotlib.collections.PathCollection at 0x1a205e4f28>"
      ]
     },
     "execution_count": 5,
     "metadata": {},
     "output_type": "execute_result"
    },
    {
     "data": {
      "image/png": "[encoded data removed]",
      "text/plain": [
       "<Figure size 432x288 with 1 Axes>"
      ]
     },
     "metadata": {
      "needs_background": "light"
     },
     "output_type": "display_data"
    }
   ],
   "source": [
    "plt.plot(pred)\n",
    "plt.scatter(range(len(target)), target)"
   ]
  },
  {
   "cell_type": "markdown",
   "metadata": {},
   "source": [
    "## Original Algorithm"
   ]
  },
  {
   "cell_type": "code",
   "execution_count": 6,
   "metadata": {},
   "outputs": [],
   "source": [
    "# F[0](data) = argmin(p) sum(L(y, p))\n",
    "# for m in range(M):\n",
    "#     residual = -grad( dL(y,F(data))/dF(data) )\n",
    "#     a[m] = argmin(a, b) sum(residual - b*h(data, a))^2\n",
    "#     p[m] = argmin(p) sum(L(y, F[m-1](data) + p*h(data, a[m])))\n",
    "#     F[m] = F[m-1](data) + p[m]*h(data, a[m])\n",
    "# sum(F)"
   ]
  },
  {
   "cell_type": "code",
   "execution_count": null,
   "metadata": {},
   "outputs": [],
   "source": []
  }
 ],
 "metadata": {
  "kernelspec": {
   "display_name": "Python 3",
   "language": "python",
   "name": "python3"
  },
  "language_info": {
   "codemirror_mode": {
    "name": "ipython",
    "version": 3
   },
   "file_extension": ".py",
   "mimetype": "text/x-python",
   "name": "python",
   "nbconvert_exporter": "python",
   "pygments_lexer": "ipython3",
   "version": "3.7.2"
  }
 },
 "nbformat": 4,
 "nbformat_minor": 2
}
