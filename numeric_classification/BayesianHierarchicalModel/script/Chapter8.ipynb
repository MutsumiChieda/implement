{
 "cells": [
  {
   "cell_type": "markdown",
   "metadata": {},
   "source": [
    "# Chapter 8\n",
    "## MCMC Sampling & Bayesian Estimation"
   ]
  },
  {
   "cell_type": "code",
   "execution_count": 1,
   "metadata": {},
   "outputs": [],
   "source": [
    "import math\n",
    "import scipy\n",
    "import numpy as np\n",
    "import pandas as pd\n",
    "import matplotlib.pyplot as plt\n",
    "import statsmodels.api as sm\n",
    "import statsmodels.formula.api as smf"
   ]
  },
  {
   "cell_type": "code",
   "execution_count": 2,
   "metadata": {},
   "outputs": [
    {
     "data": {
      "text/plain": [
       "'%.3f'"
      ]
     },
     "execution_count": 2,
     "metadata": {},
     "output_type": "execute_result"
    }
   ],
   "source": [
    "%precision 3"
   ]
  },
  {
   "cell_type": "code",
   "execution_count": 3,
   "metadata": {},
   "outputs": [],
   "source": [
    "# 全カラムを表示させる\n",
    "pd.set_option('display.max_columns', None)"
   ]
  },
  {
   "cell_type": "code",
   "execution_count": 4,
   "metadata": {},
   "outputs": [
    {
     "data": {
      "text/html": [
       "<div>\n",
       "<style scoped>\n",
       "    .dataframe tbody tr th:only-of-type {\n",
       "        vertical-align: middle;\n",
       "    }\n",
       "\n",
       "    .dataframe tbody tr th {\n",
       "        vertical-align: top;\n",
       "    }\n",
       "\n",
       "    .dataframe thead th {\n",
       "        text-align: right;\n",
       "    }\n",
       "</style>\n",
       "<table border=\"1\" class=\"dataframe\">\n",
       "  <thead>\n",
       "    <tr style=\"text-align: right;\">\n",
       "      <th></th>\n",
       "      <th>y</th>\n",
       "      <th>N</th>\n",
       "    </tr>\n",
       "  </thead>\n",
       "  <tbody>\n",
       "    <tr>\n",
       "      <th>0</th>\n",
       "      <td>4</td>\n",
       "      <td>8</td>\n",
       "    </tr>\n",
       "    <tr>\n",
       "      <th>1</th>\n",
       "      <td>3</td>\n",
       "      <td>8</td>\n",
       "    </tr>\n",
       "    <tr>\n",
       "      <th>2</th>\n",
       "      <td>4</td>\n",
       "      <td>8</td>\n",
       "    </tr>\n",
       "    <tr>\n",
       "      <th>3</th>\n",
       "      <td>5</td>\n",
       "      <td>8</td>\n",
       "    </tr>\n",
       "    <tr>\n",
       "      <th>4</th>\n",
       "      <td>5</td>\n",
       "      <td>8</td>\n",
       "    </tr>\n",
       "  </tbody>\n",
       "</table>\n",
       "</div>"
      ],
      "text/plain": [
       "   y  N\n",
       "0  4  8\n",
       "1  3  8\n",
       "2  4  8\n",
       "3  5  8\n",
       "4  5  8"
      ]
     },
     "execution_count": 4,
     "metadata": {},
     "output_type": "execute_result"
    }
   ],
   "source": [
    "data = pd.DataFrame(data=[4,3,4,5,5,2,3,1,4,0,1,5,5,6,5,4,4,5,3,4], columns=['y'])\n",
    "data['N'] = np.ones(20, dtype=np.int) * 8\n",
    "\n",
    "data.head()"
   ]
  },
  {
   "cell_type": "code",
   "execution_count": 5,
   "metadata": {},
   "outputs": [
    {
     "data": {
      "image/png": "[encoded data removed]",
      "text/plain": [
       "<Figure size 432x288 with 1 Axes>"
      ]
     },
     "metadata": {
      "needs_background": "light"
     },
     "output_type": "display_data"
    }
   ],
   "source": [
    "plt.hist(data['y'], bins=range(9))\n",
    "plt.xlabel('y')\n",
    "plt.ylabel('Number of individuals')\n",
    "plt.show()"
   ]
  },
  {
   "cell_type": "code",
   "execution_count": 6,
   "metadata": {},
   "outputs": [
    {
     "data": {
      "text/html": [
       "<table class=\"simpletable\">\n",
       "<caption>Generalized Linear Model Regression Results</caption>\n",
       "<tr>\n",
       "  <th>Dep. Variable:</th>  <td>['y', 'I(N - y)']</td> <th>  No. Observations:  </th>  <td>    20</td>  \n",
       "</tr>\n",
       "<tr>\n",
       "  <th>Model:</th>                 <td>GLM</td>        <th>  Df Residuals:      </th>  <td>    19</td>  \n",
       "</tr>\n",
       "<tr>\n",
       "  <th>Model Family:</th>       <td>Binomial</td>      <th>  Df Model:          </th>  <td>     0</td>  \n",
       "</tr>\n",
       "<tr>\n",
       "  <th>Link Function:</th>        <td>logit</td>       <th>  Scale:             </th> <td>  1.0000</td> \n",
       "</tr>\n",
       "<tr>\n",
       "  <th>Method:</th>               <td>IRLS</td>        <th>  Log-Likelihood:    </th> <td> -37.748</td> \n",
       "</tr>\n",
       "<tr>\n",
       "  <th>Date:</th>           <td>Wed, 26 Jun 2019</td>  <th>  Deviance:          </th> <td>  28.722</td> \n",
       "</tr>\n",
       "<tr>\n",
       "  <th>Time:</th>               <td>11:50:43</td>      <th>  Pearson chi2:      </th>  <td>  24.5</td>  \n",
       "</tr>\n",
       "<tr>\n",
       "  <th>No. Iterations:</th>         <td>3</td>         <th>  Covariance Type:   </th> <td>nonrobust</td>\n",
       "</tr>\n",
       "</table>\n",
       "<table class=\"simpletable\">\n",
       "<tr>\n",
       "      <td></td>         <th>coef</th>     <th>std err</th>      <th>z</th>      <th>P>|z|</th>  <th>[0.025</th>    <th>0.975]</th>  \n",
       "</tr>\n",
       "<tr>\n",
       "  <th>Intercept</th> <td>   -0.1754</td> <td>    0.159</td> <td>   -1.105</td> <td> 0.269</td> <td>   -0.487</td> <td>    0.136</td>\n",
       "</tr>\n",
       "</table>"
      ],
      "text/plain": [
       "<class 'statsmodels.iolib.summary.Summary'>\n",
       "\"\"\"\n",
       "                 Generalized Linear Model Regression Results                  \n",
       "==============================================================================\n",
       "Dep. Variable:      ['y', 'I(N - y)']   No. Observations:                   20\n",
       "Model:                            GLM   Df Residuals:                       19\n",
       "Model Family:                Binomial   Df Model:                            0\n",
       "Link Function:                  logit   Scale:                          1.0000\n",
       "Method:                          IRLS   Log-Likelihood:                -37.748\n",
       "Date:                Wed, 26 Jun 2019   Deviance:                       28.722\n",
       "Time:                        11:50:43   Pearson chi2:                     24.5\n",
       "No. Iterations:                     3   Covariance Type:             nonrobust\n",
       "==============================================================================\n",
       "                 coef    std err          z      P>|z|      [0.025      0.975]\n",
       "------------------------------------------------------------------------------\n",
       "Intercept     -0.1754      0.159     -1.105      0.269      -0.487       0.136\n",
       "==============================================================================\n",
       "\"\"\""
      ]
     },
     "execution_count": 6,
     "metadata": {},
     "output_type": "execute_result"
    }
   ],
   "source": [
    "result = smf.glm(formula='y + I(N-y) ~ 1', data=data, family=sm.families.Binomial()).fit()\n",
    "result.summary()"
   ]
  },
  {
   "cell_type": "code",
   "execution_count": 7,
   "metadata": {},
   "outputs": [
    {
     "name": "stdout",
     "output_type": "stream",
     "text": [
      "q prediction : 0.4562500000001564\n"
     ]
    }
   ],
   "source": [
    "print('q prediction :', 1 / (1 + math.exp(-result.params['Intercept'])))"
   ]
  },
  {
   "cell_type": "markdown",
   "metadata": {},
   "source": [
    "## 8.2 Random walking MLE"
   ]
  },
  {
   "cell_type": "code",
   "execution_count": 8,
   "metadata": {},
   "outputs": [
    {
     "name": "stderr",
     "output_type": "stream",
     "text": [
      "/anaconda3/envs/smenv/lib/python3.6/site-packages/ipykernel_launcher.py:5: DeprecationWarning: `comb` is deprecated!\n",
      "Importing `comb` from scipy.misc is deprecated in scipy 1.0.0. Use `scipy.special.comb` instead.\n",
      "  \"\"\"\n"
     ]
    }
   ],
   "source": [
    "def loglikelihood(data, q):\n",
    "    ll = 0\n",
    "    \n",
    "    for i, r in data.iterrows():\n",
    "        ll = ll + math.log(scipy.misc.comb(r['N'], r['y'])) + r['y']*math.log(q) + (r['N'] - r['y'])*math.log(1 - q)\n",
    "        \n",
    "    return ll\n",
    "\n",
    "def maximum_likelihood_estimation(data, q_start, number_of_trials):\n",
    "    q_current = q_start\n",
    "    ll_current = loglikelihood(data, q_current)\n",
    "    \n",
    "    q = [q_current]\n",
    "    ll = [ll_current]\n",
    "    \n",
    "    for r in np.random.random(number_of_trials):\n",
    "        q_new = q_current + 0.01 if r > 0.5 else q_current - 0.01\n",
    "        ll_new = loglikelihood(data, q_new)\n",
    "        \n",
    "        if ll_current < ll_new:\n",
    "            q_current = q_new\n",
    "            ll_current = ll_new\n",
    "            \n",
    "        q.append(q_current)\n",
    "        ll.append(ll_current)\n",
    "    \n",
    "    return q, ll\n",
    "\n",
    "q_03, ll_03 = maximum_likelihood_estimation(data, 0.3, 100)\n",
    "q_06, ll_06 = maximum_likelihood_estimation(data, 0.6, 100)"
   ]
  },
  {
   "cell_type": "code",
   "execution_count": 9,
   "metadata": {},
   "outputs": [
    {
     "data": {
      "image/png": "[encoded data removed]",
      "text/plain": [
       "<Figure size 432x288 with 1 Axes>"
      ]
     },
     "metadata": {
      "needs_background": "light"
     },
     "output_type": "display_data"
    }
   ],
   "source": [
    "# 推定する過程をプロット\n",
    "plt.plot(np.arange(len(q_03)), q_03, label='q_start=0.30')\n",
    "plt.plot(np.arange(len(q_06)), q_06, label='q_start=0.60')\n",
    "plt.legend()\n",
    "plt.xlabel('Number of trials')\n",
    "plt.ylabel('q')\n",
    "plt.show()"
   ]
  },
  {
   "cell_type": "code",
   "execution_count": 10,
   "metadata": {},
   "outputs": [
    {
     "name": "stdout",
     "output_type": "stream",
     "text": [
      "q: 0.46000000000000013\n",
      "logL: -37.75236699067625\n"
     ]
    }
   ],
   "source": [
    "# 試行回数100回目のqと最尤推定値\n",
    "print('q:', q_03[100])\n",
    "print('logL:', ll_03[100])"
   ]
  },
  {
   "cell_type": "markdown",
   "metadata": {},
   "source": [
    "## 8.3 Metropolis MCMC Sampling"
   ]
  },
  {
   "cell_type": "code",
   "execution_count": null,
   "metadata": {},
   "outputs": [
    {
     "name": "stderr",
     "output_type": "stream",
     "text": [
      "/anaconda3/envs/smenv/lib/python3.6/site-packages/ipykernel_launcher.py:5: DeprecationWarning: `comb` is deprecated!\n",
      "Importing `comb` from scipy.misc is deprecated in scipy 1.0.0. Use `scipy.special.comb` instead.\n",
      "  \"\"\"\n"
     ]
    }
   ],
   "source": [
    "def mcmc_metropolis(data, q_start, number_of_trials):\n",
    "    q_current = q_start\n",
    "    ll_current = loglikelihood(data, q_current)\n",
    "    \n",
    "    q = [q_current]\n",
    "    ll = [ll_current]\n",
    "    \n",
    "    for r1, r2 in zip(np.random.random(number_of_trials), np.random.random(number_of_trials)):\n",
    "        q_new = q_current + 0.01 if r1 > 0.5 else q_current - 0.01\n",
    "        if q_new <= 0.01:\n",
    "            q_new = 0.02\n",
    "        elif q_new >= 0.99:\n",
    "            q_new = 0.98\n",
    "        ll_new = loglikelihood(data, q_new)\n",
    "        \n",
    "        if ll_current < ll_new or (math.exp(ll_new - ll_current)  > r2):\n",
    "            q_current = q_new\n",
    "            ll_current = ll_new\n",
    "            \n",
    "        q.append(q_current)\n",
    "        ll.append(ll_current)\n",
    "    \n",
    "    return q, ll\n",
    "\n",
    "q_100, ll_100 = mcmc_metropolis(data, 0.3, 100)\n",
    "q_1000, ll_1000 = mcmc_metropolis(data, 0.3, 1000)\n",
    "q_10000, ll_10000 = mcmc_metropolis(data, 0.3, 10000)\n",
    "# q_100000, ll_100000 = mcmc_metropolis(data, 0.3, 100000)"
   ]
  },
  {
   "cell_type": "code",
   "execution_count": null,
   "metadata": {},
   "outputs": [],
   "source": [
    "# サンプル数100\n",
    "plt.plot(np.arange(len(q_100)), q_100, label='samples=100')\n",
    "plt.legend()\n",
    "plt.xlabel('samples')\n",
    "plt.ylabel('q')\n",
    "plt.show()"
   ]
  },
  {
   "cell_type": "code",
   "execution_count": null,
   "metadata": {},
   "outputs": [],
   "source": [
    "# サンプル数100におけるqの確率分布\n",
    "count, value = np.histogram(q_100, bins=100, range=(0.00, 1.00))\n",
    "plt.step(value[:-1], count/100)\n",
    "plt.xlabel('q')\n",
    "plt.ylabel('probability')\n",
    "plt.show()"
   ]
  },
  {
   "cell_type": "code",
   "execution_count": null,
   "metadata": {},
   "outputs": [],
   "source": [
    "# サンプル数1000\n",
    "plt.plot(np.arange(len(q_1000)), q_1000, label='samples=1000')\n",
    "plt.legend()\n",
    "plt.xlabel('samples')\n",
    "plt.ylabel('q')\n",
    "plt.show()"
   ]
  },
  {
   "cell_type": "code",
   "execution_count": null,
   "metadata": {},
   "outputs": [],
   "source": [
    "# サンプル数1000におけるqの確率分布\n",
    "count, value = np.histogram(q_1000, bins=100, range=(0.00, 1.00))\n",
    "plt.step(value[:-1], count/1000)\n",
    "plt.xlabel('q')\n",
    "plt.ylabel('probability')\n",
    "plt.show()"
   ]
  },
  {
   "cell_type": "code",
   "execution_count": null,
   "metadata": {},
   "outputs": [],
   "source": [
    "# サンプル数10000\n",
    "plt.plot(np.arange(len(q_10000)), q_10000, label='samples=10000')\n",
    "plt.legend()\n",
    "plt.xlabel('samples')\n",
    "plt.ylabel('q')\n",
    "plt.show()"
   ]
  },
  {
   "cell_type": "code",
   "execution_count": null,
   "metadata": {},
   "outputs": [],
   "source": [
    "# サンプル数1000におけるqの確率分布\n",
    "count, value = np.histogram(q_10000, bins=100, range=(0.00, 1.00))\n",
    "plt.step(value[:-1], count/10000)\n",
    "plt.xlabel('q')\n",
    "plt.ylabel('probability')\n",
    "plt.show()"
   ]
  },
  {
   "cell_type": "code",
   "execution_count": null,
   "metadata": {},
   "outputs": [],
   "source": [
    "# サンプル数100000\n",
    "plt.plot(np.arange(len(q_100000)), q_100000, label='samples=100000')\n",
    "plt.legend()\n",
    "plt.xlabel('samples')\n",
    "plt.ylabel('q')\n",
    "plt.show()"
   ]
  },
  {
   "cell_type": "code",
   "execution_count": null,
   "metadata": {},
   "outputs": [],
   "source": [
    "# サンプル数100000におけるqの確率分布\n",
    "count, value = np.histogram(q_100000, bins=100, range=(0.00, 1.00))\n",
    "plt.step(value[:-1], count/100000)\n",
    "plt.xlabel('q')\n",
    "plt.ylabel('probability')\n",
    "plt.show()"
   ]
  },
  {
   "cell_type": "code",
   "execution_count": null,
   "metadata": {},
   "outputs": [],
   "source": [
    "# サンプル数1000と100000でqの確率分布を比較\n",
    "count, value = np.histogram(q_1000, bins=100, range=(0.00, 1.00))\n",
    "plt.step(value[20:70], count[20:70]/1000, label='1000 samples')\n",
    "count, value = np.histogram(q_100000, bins=100, range=(0.00, 1.00))\n",
    "plt.step(value[20:70], count[20:70]/100000, label='100000 samples')\n",
    "plt.legend()\n",
    "plt.xlabel('q')\n",
    "plt.ylabel('probability')\n",
    "plt.show()"
   ]
  },
  {
   "cell_type": "code",
   "execution_count": null,
   "metadata": {},
   "outputs": [],
   "source": [
    "q_01, ll_01 = mcmc_metropolis(data, 0.1, 500)\n",
    "q_04, ll_04 = mcmc_metropolis(data, 0.4, 500)\n",
    "q_06, ll_06 = mcmc_metropolis(data, 0.6, 500)\n",
    "q_09, ll_09 = mcmc_metropolis(data, 0.9, 500)"
   ]
  },
  {
   "cell_type": "code",
   "execution_count": null,
   "metadata": {},
   "outputs": [],
   "source": [
    "plt.plot(np.arange(len(q_01)), q_01, label='q_start=0.1')\n",
    "plt.plot(np.arange(len(q_04)), q_04, label='q_start=0.4')\n",
    "plt.plot(np.arange(len(q_06)), q_06, label='q_start=0.6')\n",
    "plt.plot(np.arange(len(q_09)), q_09, label='q_start=0.9')\n",
    "plt.legend()\n",
    "plt.xlabel('Number of trials')\n",
    "plt.ylabel('q')\n",
    "plt.show()"
   ]
  }
 ],
 "metadata": {
  "kernelspec": {
   "display_name": "Python 3",
   "language": "python",
   "name": "python3"
  },
  "language_info": {
   "codemirror_mode": {
    "name": "ipython",
    "version": 3
   },
   "file_extension": ".py",
   "mimetype": "text/x-python",
   "name": "python",
   "nbconvert_exporter": "python",
   "pygments_lexer": "ipython3",
   "version": "3.6.8"
  }
 },
 "nbformat": 4,
 "nbformat_minor": 2
}
